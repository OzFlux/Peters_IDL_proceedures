{
 "cells": [
  {
   "cell_type": "code",
   "execution_count": 1,
   "metadata": {
    "collapsed": false
   },
   "outputs": [
    {
     "name": "stdout",
     "output_type": "stream",
     "text": []
    }
   ],
   "source": [
    "FUNCTION read_dap_MCD43A4,url,sites\n",
    "; open the DAP file\n",
    " dap_file = ncdf_open(url)\n",
    "; get the latitude and longitude resolutions from the global attributes\n",
    " ncdf_attget,dap_file,\"geospatial_lat_resolution\",lat_res,/global\n",
    " ncdf_attget,dap_file,\"geospatial_lon_resolution\",lon_res,/global\n",
    "; get the time variable\n",
    " time_id = ncdf_varid(dap_file,\"time\")\n",
    " ncdf_varget,dap_file,time_id,time\n",
    " nrecs = n_elements(time)\n",
    "; and the time variable units attribute\n",
    " ncdf_attget,dap_file,time_id,\"units\",value\n",
    " time_units = string(value)\n",
    "; get the year, month and day from the time units string\n",
    " result = strsplit(time_units,\" \",/extract)\n",
    " ymd = strsplit(result[2],\"-\",/extract)\n",
    "; get the hour, minute and seconds\n",
    " hms = strsplit(result[3],\":\",/extract)\n",
    "; get the Julian date from the netCDF time\n",
    " jul_time = time + JulDay(fix(ymd[1]),fix(ymd[2]),fix(ymd[0]),0,0,0)\n",
    "; ... and get the year, month, day etc from the Julian date\n",
    " CalDat, jul_time, month, day, year, hour, minute, second\n",
    ";print, year[-1], month[-1], day[-1], hour[-1], minute[-1], second[-1]\n",
    "; get the latitude and longitude variables from the netCDF file\n",
    " lat_id = ncdf_varid(dap_file,\"latitude\")\n",
    " ncdf_varget,dap_file,lat_id,latitude\n",
    " lon_id = ncdf_varid(dap_file,\"longitude\")\n",
    " ncdf_varget,dap_file,lon_id,longitude\n",
    "; NOTE: AusCover DAP files are dimensioned as [longitude,latitude,time]\n",
    ";                                          eg [19160,14902,365]\n",
    " nsites = n_elements(sites.name)\n",
    " for i=0,nsites-1 do begin\n",
    "   print,\"Processing site: \",sites.name[i]\n",
    "; get the latitude and longitude indices\n",
    "   lat_index = fix(((latitude[0]-sites.latitude[i])/lat_res)+0.5)\n",
    "   if sites.longitude[i]<0 then sites.longitude[i] = float(360) + sites.longitude[i]\n",
    "   lon_index = fix(((sites.longitude[i]-longitude[0])/lon_res)+0.5)\n",
    "; get the offset and count for the data subset\n",
    "   offset = [lon_index-1,lat_index-1,0]\n",
    "   count = [3,3,nrecs]\n",
    "; and now get the BDRF reflectance data\n",
    "; 459 to 479 nm\n",
    "   id = ncdf_varid(dap_file,\"nbar_0459_0479nm\")\n",
    "   ncdf_varget,dap_file,id,nbar_0459_0479nm,offset=offset,count=count\n",
    "; 545 to 565 nm\n",
    "   id = ncdf_varid(dap_file,\"nbar_0545_0565nm\")\n",
    "   ncdf_varget,dap_file,id,nbar_0545_0565nm,offset=offset,count=count\n",
    "; 620 to 670 nm\n",
    "   id = ncdf_varid(dap_file,\"nbar_0620_0670nm\")\n",
    "   ncdf_varget,dap_file,id,nbar_0620_0670nm,offset=offset,count=count\n",
    "; 841 to 876 nm\n",
    "   id = ncdf_varid(dap_file,\"nbar_0841_0876nm\")\n",
    "   ncdf_varget,dap_file,id,nbar_0841_0876nm,offset=offset,count=count\n",
    "; 1230 to 1250 nm\n",
    "   id = ncdf_varid(dap_file,\"nbar_1230_1250nm\")\n",
    "   ncdf_varget,dap_file,id,nbar_1230_1250nm,offset=offset,count=count\n",
    "; 1628 to 1652 nm\n",
    "   id = ncdf_varid(dap_file,\"nbar_1628_1652nm\")\n",
    "   ncdf_varget,dap_file,id,nbar_1628_1652nm,offset=offset,count=count\n",
    "; 2105 to 2155 nm\n",
    "   id = ncdf_varid(dap_file,\"nbar_2105_2155nm\")\n",
    "   ncdf_varget,dap_file,id,nbar_2105_2155nm,offset=offset,count=count\n",
    "; quality flag\n",
    "   id = ncdf_varid(dap_file,\"quality\")\n",
    "   ncdf_varget,dap_file,id,quality,offset=offset,count=count\n",
    "; snow\n",
    "   id = ncdf_varid(dap_file,\"snow\")\n",
    "   ncdf_varget,dap_file,id,snow,offset=offset,count=count\n",
    "; typical mask\n",
    "   id = ncdf_varid(dap_file,\"typical_mask\")\n",
    "   ncdf_varget,dap_file,id,typical_mask,offset=offset,count=count\n",
    "; create the data structure\n",
    "   new = {name:sites.name[i],year:year,month:month,day:day,$\n",
    "          hour:hour,minute:minute,second:second,$\n",
    "          nbar_0459_0479nm:nbar_0459_0479nm,$\n",
    "          nbar_0545_0565nm:nbar_0545_0565nm,$\n",
    "          nbar_0620_0670nm:nbar_0620_0670nm,$\n",
    "          nbar_0841_0876nm:nbar_0841_0876nm,$\n",
    "          nbar_1230_1250nm:nbar_1230_1250nm,$\n",
    "          nbar_1628_1652nm:nbar_1628_1652nm,$\n",
    "          nbar_2105_2155nm:nbar_2105_2155nm,$\n",
    "          quality:quality,snow:snow,$\n",
    "          typical_mask:typical_mask}\n",
    "; add this structure to the array\n",
    "   if i eq 0 then data = replicate(new,nsites) else data[i] = new\n",
    " endfor\n",
    "; close the netCDF file\n",
    " ncdf_close,dap_file\n",
    "; return the data structure\n",
    " return,data\n",
    "END"
   ]
  },
  {
   "cell_type": "code",
   "execution_count": 2,
   "metadata": {
    "collapsed": false
   },
   "outputs": [
    {
     "name": "stdout",
     "output_type": "stream",
     "text": []
    }
   ],
   "source": [
    "sites = {name:[\"Sturt Plains\"],latitude:[-17.15090],longitude:[133.35055]}"
   ]
  },
  {
   "cell_type": "code",
   "execution_count": 3,
   "metadata": {
    "collapsed": false
   },
   "outputs": [
    {
     "name": "stdout",
     "output_type": "stream",
     "text": []
    }
   ],
   "source": [
    "; define the DAP URL and the file name\n",
    "dap_path = \"http://www.auscover.org.au/thredds/dodsC/auscover/lpdaac-aggregates/c5/v2-nc4/aust/MCD43A4.005/\"\n",
    "file_name = \"MCD43A4.aggregated.aust.005.nadir_brdf_adjusted_reflectance.ncml\"\n",
    "; get the full URL and open the netCDF file\n",
    "url = dap_path+file_name"
   ]
  },
  {
   "cell_type": "code",
   "execution_count": 4,
   "metadata": {
    "collapsed": false
   },
   "outputs": [
    {
     "name": "stdout",
     "output_type": "stream",
     "text": [
      "Processing site: Sturt Plains\r\n"
     ]
    }
   ],
   "source": [
    "data = read_dap_MCD43A4(url,sites)"
   ]
  },
  {
   "cell_type": "code",
   "execution_count": 9,
   "metadata": {
    "collapsed": false
   },
   "outputs": [
    {
     "name": "stdout",
     "output_type": "stream",
     "text": []
    }
   ],
   "source": [
    "for i=0,n_elements(data)-1 do begin\n",
    " nrecs = n_elements(data[i].year)\n",
    "; get the decimal year for plotting\n",
    " julian_date = JulDay(data[i].month,data[i].day,data[i].year,$\n",
    "                      data[i].hour,data[i].minute,data[i].second)\n",
    " doy = julian_date - JulDay(1,1,data[i].year)\n",
    " diy = intarr(nrecs)\n",
    " diy = 365\n",
    " idx = where((data[i].year mod 4) eq 0,count)\n",
    " diy[idx] = 366\n",
    " ydy = data[i].year + doy/diy + data[i].hour/(24*diy) + data[i].minute/(24*60*diy)\n",
    " window,i\n",
    " plot,ydy,data[i].nbar_0459_0479nm[1,1,*],max_value=0.2,min_value=0.0,$\n",
    "      xrange=[2000,2017],xtickinterval=1,$\n",
    "      xtitle=\"Years\",ytitle=\"BDRF Reflectance\",$\n",
    "      title=sites.name[i]\n",
    " oplot,ydy,data[i].nbar_0459_0479nm[0,0,*],max_value=0.2,min_value=0.0\n",
    " oplot,ydy,data[i].nbar_0459_0479nm[0,1,*],max_value=0.2,min_value=0.0\n",
    " oplot,ydy,data[i].nbar_0459_0479nm[0,2,*],max_value=0.2,min_value=0.0\n",
    " oplot,ydy,data[i].nbar_0459_0479nm[1,0,*],max_value=0.2,min_value=0.0\n",
    " oplot,ydy,data[i].nbar_0459_0479nm[1,2,*],max_value=0.2,min_value=0.0\n",
    " oplot,ydy,data[i].nbar_0459_0479nm[2,0,*],max_value=0.2,min_value=0.0\n",
    " oplot,ydy,data[i].nbar_0459_0479nm[2,1,*],max_value=0.2,min_value=0.0\n",
    " oplot,ydy,data[i].nbar_0459_0479nm[2,2,*],max_value=0.2,min_value=0.0\n",
    "endfor"
   ]
  },
  {
   "cell_type": "code",
   "execution_count": null,
   "metadata": {
    "collapsed": false
   },
   "outputs": [],
   "source": [
    "sites = {name:[\"Calperum\",\"Sturt Plains\",\"Whroo\"],$\n",
    "         latitude:[-34.00206,-17.15090,-36.67305],$\n",
    "         longitude:[140.58912,133.35055,145.02621]}"
   ]
  },
  {
   "cell_type": "code",
   "execution_count": null,
   "metadata": {
    "collapsed": false
   },
   "outputs": [],
   "source": [
    "dap_file = ncdf_open(url)\n",
    "ncdf_attget,dap_file,\"geospatial_lat_resolution\",lat_res,/global\n",
    "ncdf_attget,dap_file,\"geospatial_lon_resolution\",lon_res,/global\n",
    "time_id = ncdf_varid(dap_file,\"time\")\n",
    "ncdf_varget,dap_file,time_id,time\n",
    "nrecs = n_elements(time)\n",
    "ncdf_attget,dap_file,time_id,\"units\",value\n",
    "time_units = string(value)\n",
    "result = strsplit(time_units,\" \",/extract)\n",
    "ymd = strsplit(result[2],\"-\",/extract)\n",
    "hms = strsplit(result[3],\":\",/extract)\n",
    "jul_time = time + JulDay(fix(ymd[1]),fix(ymd[2]),fix(ymd[0]),0,0,0)\n",
    "CalDat, jul_time, month, day, year, hour, minute, second\n",
    "lat_id = ncdf_varid(dap_file,\"latitude\")\n",
    "ncdf_varget,dap_file,lat_id,latitude\n",
    "lon_id = ncdf_varid(dap_file,\"longitude\")\n",
    "ncdf_varget,dap_file,lon_id,longitude\n",
    "nsites = n_elements(sites.name)"
   ]
  },
  {
   "cell_type": "code",
   "execution_count": null,
   "metadata": {
    "collapsed": true
   },
   "outputs": [],
   "source": [
    "for i=0,nsites-1 do begin\n",
    "  print,\"Processing site: \",sites.name[i]\n",
    "  lat_index = fix(((latitude[0]-sites.latitude[i])/lat_res)+0.5)\n",
    "  if sites.longitude[i]<0 then sites.longitude[i] = float(360) + sites.longitude[i]\n",
    "  lon_index = fix(((sites.longitude[i]-longitude[0])/lon_res)+0.5)\n",
    "  offset = [lon_index-1,lat_index-1,0]\n",
    "  count = [3,3,nrecs]\n",
    "  id = ncdf_varid(dap_file,\"nbar_0459_0479nm\")\n",
    "  ncdf_varget,dap_file,id,nbar_0459_0479nm,offset=offset,count=count"
   ]
  }
 ],
 "metadata": {
  "kernelspec": {
   "display_name": "IDL",
   "language": "IDL",
   "name": "idl"
  },
  "language_info": {
   "codemirror_mode": "idl",
   "file_extension": ".pro",
   "mimetype": "text/x-idl",
   "name": "idl"
  }
 },
 "nbformat": 4,
 "nbformat_minor": 0
}
