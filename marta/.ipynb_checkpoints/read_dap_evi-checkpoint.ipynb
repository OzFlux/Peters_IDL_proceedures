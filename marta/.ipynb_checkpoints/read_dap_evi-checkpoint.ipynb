{
 "cells": [
  {
   "cell_type": "code",
   "execution_count": 1,
   "metadata": {
    "collapsed": false
   },
   "outputs": [
    {
     "name": "stdout",
     "output_type": "stream",
     "text": []
    }
   ],
   "source": [
    " evi_path = \"http://www.auscover.org.au/thredds/dodsC/auscover/lpdaac-aggregates/c5/v2-nc4/aust/\"\n",
    " evi_file = \"MOD13Q1.005/MOD13Q1.aggregated.aust.005.enhanced_vegetation_index.ncml\""
   ]
  },
  {
   "cell_type": "code",
   "execution_count": 2,
   "metadata": {
    "collapsed": false
   },
   "outputs": [
    {
     "name": "stdout",
     "output_type": "stream",
     "text": [
      "WARNING: gnome-keyring:: couldn't connect to: /tmp/keyring-Km3CXC/pkcs11: No such file or directory\r\n"
     ]
    }
   ],
   "source": [
    " nc_full_name = evi_path+evi_file\n",
    " nc_file = ncdf_open(nc_full_name)"
   ]
  },
  {
   "cell_type": "code",
   "execution_count": 3,
   "metadata": {
    "collapsed": false
   },
   "outputs": [
    {
     "name": "stdout",
     "output_type": "stream",
     "text": []
    }
   ],
   "source": [
    " ncdf_attget,nc_file,\"geospatial_lat_resolution\",lat_res,/global\n",
    " ncdf_attget,nc_file,\"geospatial_lon_resolution\",lon_res,/global"
   ]
  },
  {
   "cell_type": "code",
   "execution_count": 4,
   "metadata": {
    "collapsed": false
   },
   "outputs": [
    {
     "name": "stdout",
     "output_type": "stream",
     "text": []
    }
   ],
   "source": [
    " time_id = ncdf_varid(nc_file,\"time\")\n",
    " ncdf_varget,nc_file,time_id,time\n",
    " nrecs = n_elements(time)"
   ]
  },
  {
   "cell_type": "code",
   "execution_count": 5,
   "metadata": {
    "collapsed": false
   },
   "outputs": [
    {
     "name": "stdout",
     "output_type": "stream",
     "text": []
    }
   ],
   "source": [
    "; get the latitude and longitude variables from the netCDF file\n",
    " lat_id = ncdf_varid(nc_file,\"latitude\")\n",
    " ncdf_varget,nc_file,lat_id,latitude\n",
    " lon_id = ncdf_varid(nc_file,\"longitude\")\n",
    " ncdf_varget,nc_file,lon_id,longitude"
   ]
  },
  {
   "cell_type": "code",
   "execution_count": 6,
   "metadata": {
    "collapsed": false
   },
   "outputs": [
    {
     "name": "stdout",
     "output_type": "stream",
     "text": []
    }
   ],
   "source": [
    "site_latitude = -17.15090\n",
    "site_longitude = 133.35055\n",
    "; NOTE: evi is dimensioned as [longitude,latitude,time]\n",
    ";                          eg [19160,14902,365]\n",
    "; get the latitude and longitude indices\n",
    " lat_index = fix(((latitude[0]-site_latitude)/lat_res)+0.5)\n",
    "; if site_longitude<0: site_longitude = float(360) + site_longitude\n",
    " lon_index = fix(((site_longitude-longitude[0])/lon_res)+0.5)\n",
    "; get the offset and count for the data subset\n",
    " offset = [lon_index-1,lat_index-1,0]\n",
    " count = [3,3,nrecs]\n",
    " ; and now get the EVI data\n",
    " evi_id = ncdf_varid(nc_file,\"evi\")\n",
    " ncdf_varget,nc_file,evi_id,evi,offset=offset,count=count"
   ]
  },
  {
   "cell_type": "code",
   "execution_count": 7,
   "metadata": {
    "collapsed": false
   },
   "outputs": [
    {
     "name": "stdout",
     "output_type": "stream",
     "text": []
    }
   ],
   "source": [
    "!inline=1\n",
    "window,0\n",
    "plot,time,evi[1,1,*],max_value=1.0,min_value=-0.2"
   ]
  },
  {
   "cell_type": "code",
   "execution_count": null,
   "metadata": {
    "collapsed": true
   },
   "outputs": [],
   "source": []
  }
 ],
 "metadata": {
  "kernelspec": {
   "display_name": "IDL",
   "language": "IDL",
   "name": "idl"
  },
  "language_info": {
   "codemirror_mode": "idl",
   "file_extension": ".pro",
   "mimetype": "text/x-idl",
   "name": "idl"
  }
 },
 "nbformat": 4,
 "nbformat_minor": 0
}
