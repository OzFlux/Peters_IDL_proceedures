{
 "cells": [
  {
   "cell_type": "code",
   "execution_count": null,
   "metadata": {
    "collapsed": true
   },
   "outputs": [],
   "source": [
    "FUNCTION read_dap_evi,evi_url,site_latitude,site_longitude\n",
    "; open the DAP file\n",
    " evi_file = ncdf_open(evi_url)\n",
    "; get the latitude and longitude resolutions from the global attributes\n",
    " ncdf_attget,evi_file,\"geospatial_lat_resolution\",lat_res,/global\n",
    " ncdf_attget,evi_file,\"geospatial_lon_resolution\",lon_res,/global\n",
    "; get the time variable\n",
    " time_id = ncdf_varid(evi_file,\"time\")\n",
    " ncdf_varget,evi_file,time_id,time\n",
    " nrecs = n_elements(time)\n",
    "; and the time variable units attribute\n",
    " ncdf_attget,evi_file,time_id,\"units\",value\n",
    " time_units = string(value)\n",
    "; get the year, month and day from the time units string\n",
    " result = strsplit(time_units,\" \",/extract)\n",
    " ymd = strsplit(result[2],\"-\",/extract)\n",
    "; get the hour, minute and seconds\n",
    " hms = strsplit(result[3],\":\",/extract)\n",
    "; get the Julian date from the netCDF time\n",
    " jul_time = time + JulDay(fix(ymd[1]),fix(ymd[2]),fix(ymd[0]),0,0,0)\n",
    "; ... and get the year, month, day etc from the Julian date\n",
    " CalDat, jul_time, month, day, year, hour, minute, sec\n",
    ";print, year[-1], month[-1], day[-1], hour[-1], min[-1], sec[-1]\n",
    "; get the decimal year for plotting\n",
    " doy = jul_time - JulDay(1,1,year)\n",
    " diy = intarr(nrecs)\n",
    " diy = 365\n",
    " idx = where((year mod 4) eq 0,count)\n",
    " diy[idx] = 366\n",
    " ydy = year + doy/diy + hour/(24*diy) + minute/(24*60*diy)\n",
    "; get the latitude and longitude variables from the netCDF file\n",
    " lat_id = ncdf_varid(evi_file,\"latitude\")\n",
    " ncdf_varget,evi_file,lat_id,latitude\n",
    " lon_id = ncdf_varid(evi_file,\"longitude\")\n",
    " ncdf_varget,evi_file,lon_id,longitude\n",
    "; NOTE: evi is dimensioned as [longitude,latitude,time]\n",
    ";                          eg [19160,14902,365]\n",
    "; get the latitude and longitude indices\n",
    " lat_index = fix(((latitude[0]-site_latitude)/lat_res)+0.5)\n",
    " if site_longitude<0: site_longitude = float(360) + site_longitude\n",
    " lon_index = fix(((site_longitude-longitude[0])/lon_res)+0.5)\n",
    "; get the offset and count for the data subset\n",
    " offset = [lon_index-1,lat_index-1,0]\n",
    " count = [3,3,nrecs]\n",
    "; and now get the EVI data\n",
    " evi_id = ncdf_varid(evi_file,\"evi\")\n",
    " ncdf_varget,evi_file,evi_id,evi,offset=offset,count=count\n",
    "; retunr the data structure\n",
    " return,data\n",
    "END"
   ]
  },
  {
   "cell_type": "code",
   "execution_count": 20,
   "metadata": {
    "collapsed": false
   },
   "outputs": [
    {
     "name": "stdout",
     "output_type": "stream",
     "text": []
    }
   ],
   "source": [
    "sites = {name:[\"Sturt Plains\"],$\n",
    "         latitude:[-17.15090],$\n",
    "         longitude:[133.35055]}"
   ]
  },
  {
   "cell_type": "code",
   "execution_count": 2,
   "metadata": {
    "collapsed": false
   },
   "outputs": [
    {
     "name": "stdout",
     "output_type": "stream",
     "text": []
    }
   ],
   "source": [
    "; define the DAP URL and the file name\n",
    "dap_path = \"http://www.auscover.org.au/thredds/dodsC/auscover/lpdaac-aggregates/c5/v2-nc4/aust/\"\n",
    "evi_file = \"MOD13Q1.005/MOD13Q1.aggregated.aust.005.enhanced_vegetation_index.ncml\"\n",
    "; get the full URL and open the netCDF file\n",
    "evi_url = dap_path+evi_file"
   ]
  },
  {
   "cell_type": "code",
   "execution_count": 4,
   "metadata": {
    "collapsed": false
   },
   "outputs": [
    {
     "name": "stdout",
     "output_type": "stream",
     "text": []
    }
   ],
   "source": []
  },
  {
   "cell_type": "code",
   "execution_count": 5,
   "metadata": {
    "collapsed": false
   },
   "outputs": [
    {
     "name": "stdout",
     "output_type": "stream",
     "text": []
    }
   ],
   "source": []
  },
  {
   "cell_type": "code",
   "execution_count": 6,
   "metadata": {
    "collapsed": false
   },
   "outputs": [
    {
     "name": "stdout",
     "output_type": "stream",
     "text": []
    }
   ],
   "source": []
  },
  {
   "cell_type": "code",
   "execution_count": 7,
   "metadata": {
    "collapsed": false
   },
   "outputs": [
    {
     "name": "stdout",
     "output_type": "stream",
     "text": []
    }
   ],
   "source": [
    "; NOTE: evi is dimensioned as [longitude,latitude,time]\n",
    ";                          eg [19160,14902,365]\n",
    "; get the latitude and longitude indices\n",
    "lat_index = fix(((latitude[0]-site_latitude)/lat_res)+0.5)\n",
    "; if site_longitude<0: site_longitude = float(360) + site_longitude\n",
    "lon_index = fix(((site_longitude-longitude[0])/lon_res)+0.5)\n",
    "; get the offset and count for the data subset\n",
    "offset = [lon_index-1,lat_index-1,0]\n",
    "count = [3,3,nrecs]\n",
    " ; and now get the EVI data\n",
    "evi_id = ncdf_varid(evi_file,\"evi\")\n",
    "ncdf_varget,evi_file,evi_id,evi,offset=offset,count=count"
   ]
  },
  {
   "cell_type": "code",
   "execution_count": 16,
   "metadata": {
    "collapsed": false
   },
   "outputs": [
    {
     "name": "stdout",
     "output_type": "stream",
     "text": []
    }
   ],
   "source": [
    ";!inline=1\n",
    ";date_label = label_date(DATE_FORMAT = ['%Y/%M'])\n",
    "window,0\n",
    "; the LABEL_DATE method for plotting dates doesn't seem to be implemented\n",
    "; in GDL ...\n",
    ";plot,jul_time,evi[1,1,*],max_value=1.0,min_value=-0.2,XTICKFORMAT = 'LABEL_DATE'\n",
    "; ... so we use old technology\n",
    "plot,ydy,evi[1,1,*],max_value=1.0,min_value=-0.2,$\n",
    "     xrange=[2000,2017],xtickinterval=1,$\n",
    "     xtitle=\"Years\",ytitle=\"EVI\""
   ]
  },
  {
   "cell_type": "code",
   "execution_count": null,
   "metadata": {
    "collapsed": true
   },
   "outputs": [],
   "source": []
  }
 ],
 "metadata": {
  "kernelspec": {
   "display_name": "IDL",
   "language": "IDL",
   "name": "idl"
  },
  "language_info": {
   "codemirror_mode": "idl",
   "file_extension": ".pro",
   "mimetype": "text/x-idl",
   "name": "idl"
  }
 },
 "nbformat": 4,
 "nbformat_minor": 0
}
